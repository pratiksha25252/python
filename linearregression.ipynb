import numpy as np
import pandas as pd
import matplotlib.pyplot as plt
from sklearn.linear_model import LinearRegression

# Data
DataFrame = {
    'exp': [2, 4, 5, 3, 1],
    'salary': [20000, 60000, 40000, 30000, 15000]
}

# Create DataFrame
df = pd.DataFrame({
    'Experience': DataFrame['exp'],
    'Salary ($)': DataFrame['salary']
})

# Define X and y
X = df[['Experience']]
y = df['Salary ($)']

# Create and train model
model = LinearRegression()
model.fit(X, y)

# Predict
predicted_salary = model.predict(X)

# Plot
plt.figure(figsize=(10, 6))
plt.scatter(X, y, color='skyblue', label='Actual Data')
plt.plot(X, predicted_salary, color='red', linewidth=2, label='Regression Line')
plt.xlabel('Experience (Years)')
plt.ylabel('Salary')
plt.title('Linear Regression: Experience vs Salary')
plt.legend()
plt.grid(True)
plt.show()

# Print model parameters
print("Slope:", model.coef_[0])
print("Intercept:", model.intercept_)
